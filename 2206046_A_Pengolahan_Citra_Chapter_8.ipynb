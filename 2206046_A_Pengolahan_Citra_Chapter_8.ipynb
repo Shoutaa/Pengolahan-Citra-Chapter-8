{
  "nbformat": 4,
  "nbformat_minor": 0,
  "metadata": {
    "colab": {
      "provenance": [],
      "authorship_tag": "ABX9TyMGmqaWcAwV8CM2+l/ll/8Q",
      "include_colab_link": true
    },
    "kernelspec": {
      "name": "python3",
      "display_name": "Python 3"
    },
    "language_info": {
      "name": "python"
    }
  },
  "cells": [
    {
      "cell_type": "markdown",
      "metadata": {
        "id": "view-in-github",
        "colab_type": "text"
      },
      "source": [
        "<a href=\"https://colab.research.google.com/github/Shoutaa/Pengolahan-Citra-Chapter-8/blob/main/2206046_A_Pengolahan_Citra_Chapter_8.ipynb\" target=\"_parent\"><img src=\"https://colab.research.google.com/assets/colab-badge.svg\" alt=\"Open In Colab\"/></a>"
      ]
    },
    {
      "cell_type": "markdown",
      "source": [
        "# Soal 1: Jenis-Jenis Tepi"
      ],
      "metadata": {
        "id": "gVRr2YpxYwkt"
      }
    },
    {
      "cell_type": "markdown",
      "source": [
        "## Pertanyaan:"
      ],
      "metadata": {
        "id": "NzHUQjImY1wK"
      }
    },
    {
      "cell_type": "markdown",
      "source": [
        "1. Jelaskan empat jenis tepi yang biasa ditemukan dalam citra digital.\n",
        "2. Berikan contoh masing-masing jenis tepi dalam kehidupan sehari-hari.\n",
        "3. Mengapa tepi dengan derau memerlukan pendekatan khusus untuk pendeteksiannya?\n",
        "\n",
        "Tujuan: Memahami jenis tepi dan tantangan pendeteksian pada citra yang mengandung derau."
      ],
      "metadata": {
        "id": "irE8tp49ZEbW"
      }
    },
    {
      "cell_type": "markdown",
      "source": [
        "## Jawaban"
      ],
      "metadata": {
        "id": "B7JPNTHDZaRT"
      }
    },
    {
      "cell_type": "markdown",
      "source": [],
      "metadata": {
        "id": "s5iJgkNMZEFD"
      }
    },
    {
      "cell_type": "markdown",
      "source": [
        "# Soal 2: Pendeteksian Tepi Menggunakan Operator Gradien"
      ],
      "metadata": {
        "id": "iCSkSaK3Zht3"
      }
    },
    {
      "cell_type": "markdown",
      "source": [
        "## Pertanyaan:"
      ],
      "metadata": {
        "id": "NCrxAzj9Zht5"
      }
    },
    {
      "cell_type": "markdown",
      "source": [
        "1. Operator Sobel dan Prewitt digunakan untuk pendeteksian tepi. Pilih salah satu operator tersebut.\n",
        "2. Implementasikan kode Python menggunakan pustaka seperti NumPy atau OpenCV untuk mendeteksi tepi dalam sebuah citra.\n",
        "3. Jelaskan langkah-langkah implementasi secara rinci.\n",
        "\n",
        "Tujuan: Mengasah keterampilan praktis dalam penerapan algoritma pendeteksian tepi."
      ],
      "metadata": {
        "id": "ERC9skcFZht7"
      }
    },
    {
      "cell_type": "markdown",
      "source": [
        "## Jawaban"
      ],
      "metadata": {
        "id": "Yx-7R3b7Zht8"
      }
    },
    {
      "cell_type": "markdown",
      "source": [],
      "metadata": {
        "id": "1x_e-e0TZht9"
      }
    },
    {
      "cell_type": "markdown",
      "source": [
        "# Soal 3: Perbandingan Operator Pendeteksi Tepi"
      ],
      "metadata": {
        "id": "eTS_OrzKZijA"
      }
    },
    {
      "cell_type": "markdown",
      "source": [
        "## Pertanyaan:"
      ],
      "metadata": {
        "id": "FJbdnqUeZijB"
      }
    },
    {
      "cell_type": "markdown",
      "source": [
        "1. Berikan perbandingan antara operator Sobel, Prewitt, dan Canny berdasarkan:\n",
        " *   Akurasi pendeteksian\n",
        " *   Kompleksitas komputasi\n",
        "2. Dalam situasi apa operator Canny lebih direkomendasikan dibanding operator lainnya?\n",
        "\n",
        "Tujuan: Mengevaluasi kelebihan dan kekurangan berbagai metode pendeteksian tepi."
      ],
      "metadata": {
        "id": "GGmKQvLCZijD"
      }
    },
    {
      "cell_type": "markdown",
      "source": [
        "## Jawaban"
      ],
      "metadata": {
        "id": "cYXC6BWbZijE"
      }
    },
    {
      "cell_type": "markdown",
      "source": [],
      "metadata": {
        "id": "6WCnKk32ZijF"
      }
    },
    {
      "cell_type": "markdown",
      "source": [
        "# Soal 4: Pendeteksian Tepi pada Citra Noisy"
      ],
      "metadata": {
        "id": "mrV4jXD_ZjFb"
      }
    },
    {
      "cell_type": "markdown",
      "source": [
        "## Pertanyaan:"
      ],
      "metadata": {
        "id": "69G_SGcWZjFc"
      }
    },
    {
      "cell_type": "markdown",
      "source": [
        "1. Sebuah citra memiliki derau \"salt-and-pepper\". Lakukan langkah berikut:\n",
        " * Terapkan Gaussian filter untuk mengurangi derau.\n",
        " * Gunakan metode Sobel dan Canny untuk mendeteksi tepi.\n",
        "2. Bandingkan hasil pendeteksian dari kedua metode dengan citra asli.\n",
        "3. Berikan analisis hasil yang diperoleh.\n",
        "\n",
        "Tujuan: Memahami pentingnya praproses data (filtering) sebelum pendeteksian tepi dan menganalisis hasilnya."
      ],
      "metadata": {
        "id": "wqcr82N-ZjFd"
      }
    },
    {
      "cell_type": "markdown",
      "source": [
        "## Jawaban"
      ],
      "metadata": {
        "id": "WTZQA1pMZjFf"
      }
    },
    {
      "cell_type": "markdown",
      "source": [],
      "metadata": {
        "id": "1zRIWB6PZjFg"
      }
    },
    {
      "cell_type": "markdown",
      "source": [
        "# Instruksi Penyelesaian"
      ],
      "metadata": {
        "id": "ZeDDy_FwajPx"
      }
    },
    {
      "cell_type": "markdown",
      "source": [
        "Instruksi Penyelesaian\n",
        "1. Jawab Pertanyaan-pertanyaan tersebut di colab, menggunakan text atau markdown di github\n",
        "2. Gunakan platform kolaboratif seperti Google Colab untuk implementasi dan demonstrasi praktis.\n",
        "3. Kumpulkan link github pengerjaan di LMS\n",
        "\n",
        "Catatan: Untuk soal implementasi, disarankan menggunakan pustaka Python seperti OpenCV, NumPy, dan Matplotlib untuk pemrosesan citra."
      ],
      "metadata": {
        "id": "2cq6ynuMahIR"
      }
    }
  ]
}