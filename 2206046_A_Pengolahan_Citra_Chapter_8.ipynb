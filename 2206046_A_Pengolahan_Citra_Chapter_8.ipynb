{
  "nbformat": 4,
  "nbformat_minor": 0,
  "metadata": {
    "colab": {
      "provenance": [],
      "authorship_tag": "ABX9TyNutdDQdB97W4H0zgvPMuZl",
      "include_colab_link": true
    },
    "kernelspec": {
      "name": "python3",
      "display_name": "Python 3"
    },
    "language_info": {
      "name": "python"
    }
  },
  "cells": [
    {
      "cell_type": "markdown",
      "metadata": {
        "id": "view-in-github",
        "colab_type": "text"
      },
      "source": [
        "<a href=\"https://colab.research.google.com/github/Shoutaa/Pengolahan-Citra-Chapter-8/blob/main/2206046_A_Pengolahan_Citra_Chapter_8.ipynb\" target=\"_parent\"><img src=\"https://colab.research.google.com/assets/colab-badge.svg\" alt=\"Open In Colab\"/></a>"
      ]
    },
    {
      "cell_type": "markdown",
      "source": [
        "# Soal 1: Jenis-Jenis Tepi"
      ],
      "metadata": {
        "id": "gVRr2YpxYwkt"
      }
    },
    {
      "cell_type": "markdown",
      "source": [
        "## Pertanyaan:"
      ],
      "metadata": {
        "id": "NzHUQjImY1wK"
      }
    },
    {
      "cell_type": "markdown",
      "source": [
        "1. Jelaskan empat jenis tepi yang biasa ditemukan dalam citra digital.\n",
        "2. Berikan contoh masing-masing jenis tepi dalam kehidupan sehari-hari.\n",
        "3. Mengapa tepi dengan derau memerlukan pendekatan khusus untuk pendeteksiannya?\n",
        "\n",
        "Tujuan: Memahami jenis tepi dan tantangan pendeteksian pada citra yang mengandung derau."
      ],
      "metadata": {
        "id": "irE8tp49ZEbW"
      }
    },
    {
      "cell_type": "code",
      "execution_count": null,
      "metadata": {
        "id": "xCFktUoPYJmK"
      },
      "outputs": [],
      "source": [
        "hi"
      ]
    },
    {
      "cell_type": "markdown",
      "source": [],
      "metadata": {
        "id": "s5iJgkNMZEFD"
      }
    }
  ]
}